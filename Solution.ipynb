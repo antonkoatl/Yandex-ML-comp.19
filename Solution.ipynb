{
 "cells": [
  {
   "cell_type": "code",
   "execution_count": 1,
   "metadata": {},
   "outputs": [],
   "source": [
    "import pandas as pd\n",
    "import numpy as np\n",
    "import tensorflow as tf\n",
    "from tensorflow.keras.layers import *\n",
    "from tensorflow.keras.models import *"
   ]
  },
  {
   "cell_type": "markdown",
   "metadata": {},
   "source": [
    "## Загрузка данных"
   ]
  },
  {
   "cell_type": "code",
   "execution_count": 2,
   "metadata": {},
   "outputs": [],
   "source": [
    "train = pd.read_csv(\"train.csv\")\n",
    "test = pd.read_csv(\"test.csv\")"
   ]
  },
  {
   "cell_type": "code",
   "execution_count": 3,
   "metadata": {},
   "outputs": [
    {
     "data": {
      "text/html": [
       "<div>\n",
       "<style scoped>\n",
       "    .dataframe tbody tr th:only-of-type {\n",
       "        vertical-align: middle;\n",
       "    }\n",
       "\n",
       "    .dataframe tbody tr th {\n",
       "        vertical-align: top;\n",
       "    }\n",
       "\n",
       "    .dataframe thead th {\n",
       "        text-align: right;\n",
       "    }\n",
       "</style>\n",
       "<table border=\"1\" class=\"dataframe\">\n",
       "  <thead>\n",
       "    <tr style=\"text-align: right;\">\n",
       "      <th></th>\n",
       "      <th>sample_id</th>\n",
       "      <th>item</th>\n",
       "      <th>publisher</th>\n",
       "      <th>user</th>\n",
       "      <th>topic_0</th>\n",
       "      <th>topic_1</th>\n",
       "      <th>topic_2</th>\n",
       "      <th>topic_3</th>\n",
       "      <th>topic_4</th>\n",
       "      <th>weight_0</th>\n",
       "      <th>weight_1</th>\n",
       "      <th>weight_2</th>\n",
       "      <th>weight_3</th>\n",
       "      <th>weight_4</th>\n",
       "      <th>target</th>\n",
       "    </tr>\n",
       "  </thead>\n",
       "  <tbody>\n",
       "    <tr>\n",
       "      <th>0</th>\n",
       "      <td>0</td>\n",
       "      <td>531</td>\n",
       "      <td>147</td>\n",
       "      <td>2925</td>\n",
       "      <td>411</td>\n",
       "      <td>477</td>\n",
       "      <td>618</td>\n",
       "      <td>249</td>\n",
       "      <td>460</td>\n",
       "      <td>27</td>\n",
       "      <td>18</td>\n",
       "      <td>9</td>\n",
       "      <td>8</td>\n",
       "      <td>7</td>\n",
       "      <td>0</td>\n",
       "    </tr>\n",
       "    <tr>\n",
       "      <th>1</th>\n",
       "      <td>1</td>\n",
       "      <td>1574</td>\n",
       "      <td>260</td>\n",
       "      <td>2981</td>\n",
       "      <td>212</td>\n",
       "      <td>287</td>\n",
       "      <td>382</td>\n",
       "      <td>302</td>\n",
       "      <td>51</td>\n",
       "      <td>27</td>\n",
       "      <td>11</td>\n",
       "      <td>2</td>\n",
       "      <td>1</td>\n",
       "      <td>0</td>\n",
       "      <td>0</td>\n",
       "    </tr>\n",
       "    <tr>\n",
       "      <th>2</th>\n",
       "      <td>2</td>\n",
       "      <td>940</td>\n",
       "      <td>394</td>\n",
       "      <td>1230</td>\n",
       "      <td>145</td>\n",
       "      <td>150</td>\n",
       "      <td>212</td>\n",
       "      <td>170</td>\n",
       "      <td>174</td>\n",
       "      <td>7</td>\n",
       "      <td>6</td>\n",
       "      <td>6</td>\n",
       "      <td>5</td>\n",
       "      <td>5</td>\n",
       "      <td>0</td>\n",
       "    </tr>\n",
       "    <tr>\n",
       "      <th>3</th>\n",
       "      <td>3</td>\n",
       "      <td>52</td>\n",
       "      <td>520</td>\n",
       "      <td>2597</td>\n",
       "      <td>201</td>\n",
       "      <td>283</td>\n",
       "      <td>618</td>\n",
       "      <td>249</td>\n",
       "      <td>617</td>\n",
       "      <td>35</td>\n",
       "      <td>33</td>\n",
       "      <td>30</td>\n",
       "      <td>11</td>\n",
       "      <td>9</td>\n",
       "      <td>1</td>\n",
       "    </tr>\n",
       "    <tr>\n",
       "      <th>4</th>\n",
       "      <td>4</td>\n",
       "      <td>766</td>\n",
       "      <td>55</td>\n",
       "      <td>1680</td>\n",
       "      <td>362</td>\n",
       "      <td>150</td>\n",
       "      <td>477</td>\n",
       "      <td>305</td>\n",
       "      <td>388</td>\n",
       "      <td>51</td>\n",
       "      <td>15</td>\n",
       "      <td>13</td>\n",
       "      <td>10</td>\n",
       "      <td>9</td>\n",
       "      <td>1</td>\n",
       "    </tr>\n",
       "  </tbody>\n",
       "</table>\n",
       "</div>"
      ],
      "text/plain": [
       "   sample_id  item  publisher  user  topic_0  topic_1  topic_2  topic_3  \\\n",
       "0          0   531        147  2925      411      477      618      249   \n",
       "1          1  1574        260  2981      212      287      382      302   \n",
       "2          2   940        394  1230      145      150      212      170   \n",
       "3          3    52        520  2597      201      283      618      249   \n",
       "4          4   766         55  1680      362      150      477      305   \n",
       "\n",
       "   topic_4  weight_0  weight_1  weight_2  weight_3  weight_4  target  \n",
       "0      460        27        18         9         8         7       0  \n",
       "1       51        27        11         2         1         0       0  \n",
       "2      174         7         6         6         5         5       0  \n",
       "3      617        35        33        30        11         9       1  \n",
       "4      388        51        15        13        10         9       1  "
      ]
     },
     "execution_count": 3,
     "metadata": {},
     "output_type": "execute_result"
    }
   ],
   "source": [
    "train.head()"
   ]
  },
  {
   "cell_type": "code",
   "execution_count": 4,
   "metadata": {},
   "outputs": [
    {
     "data": {
      "text/html": [
       "<div>\n",
       "<style scoped>\n",
       "    .dataframe tbody tr th:only-of-type {\n",
       "        vertical-align: middle;\n",
       "    }\n",
       "\n",
       "    .dataframe tbody tr th {\n",
       "        vertical-align: top;\n",
       "    }\n",
       "\n",
       "    .dataframe thead th {\n",
       "        text-align: right;\n",
       "    }\n",
       "</style>\n",
       "<table border=\"1\" class=\"dataframe\">\n",
       "  <thead>\n",
       "    <tr style=\"text-align: right;\">\n",
       "      <th></th>\n",
       "      <th>sample_id</th>\n",
       "      <th>item</th>\n",
       "      <th>publisher</th>\n",
       "      <th>user</th>\n",
       "      <th>topic_0</th>\n",
       "      <th>topic_1</th>\n",
       "      <th>topic_2</th>\n",
       "      <th>topic_3</th>\n",
       "      <th>topic_4</th>\n",
       "      <th>weight_0</th>\n",
       "      <th>weight_1</th>\n",
       "      <th>weight_2</th>\n",
       "      <th>weight_3</th>\n",
       "      <th>weight_4</th>\n",
       "    </tr>\n",
       "  </thead>\n",
       "  <tbody>\n",
       "    <tr>\n",
       "      <th>0</th>\n",
       "      <td>1009109</td>\n",
       "      <td>1716</td>\n",
       "      <td>349</td>\n",
       "      <td>1053</td>\n",
       "      <td>362</td>\n",
       "      <td>397</td>\n",
       "      <td>430</td>\n",
       "      <td>287</td>\n",
       "      <td>431</td>\n",
       "      <td>54</td>\n",
       "      <td>54</td>\n",
       "      <td>51</td>\n",
       "      <td>26</td>\n",
       "      <td>13</td>\n",
       "    </tr>\n",
       "    <tr>\n",
       "      <th>1</th>\n",
       "      <td>1009110</td>\n",
       "      <td>1707</td>\n",
       "      <td>202</td>\n",
       "      <td>254</td>\n",
       "      <td>150</td>\n",
       "      <td>73</td>\n",
       "      <td>356</td>\n",
       "      <td>212</td>\n",
       "      <td>482</td>\n",
       "      <td>29</td>\n",
       "      <td>7</td>\n",
       "      <td>5</td>\n",
       "      <td>5</td>\n",
       "      <td>4</td>\n",
       "    </tr>\n",
       "    <tr>\n",
       "      <th>2</th>\n",
       "      <td>1009111</td>\n",
       "      <td>1592</td>\n",
       "      <td>520</td>\n",
       "      <td>1524</td>\n",
       "      <td>397</td>\n",
       "      <td>287</td>\n",
       "      <td>356</td>\n",
       "      <td>330</td>\n",
       "      <td>281</td>\n",
       "      <td>95</td>\n",
       "      <td>46</td>\n",
       "      <td>6</td>\n",
       "      <td>5</td>\n",
       "      <td>3</td>\n",
       "    </tr>\n",
       "    <tr>\n",
       "      <th>3</th>\n",
       "      <td>1009112</td>\n",
       "      <td>1541</td>\n",
       "      <td>82</td>\n",
       "      <td>2994</td>\n",
       "      <td>397</td>\n",
       "      <td>287</td>\n",
       "      <td>102</td>\n",
       "      <td>323</td>\n",
       "      <td>356</td>\n",
       "      <td>93</td>\n",
       "      <td>77</td>\n",
       "      <td>25</td>\n",
       "      <td>7</td>\n",
       "      <td>4</td>\n",
       "    </tr>\n",
       "    <tr>\n",
       "      <th>4</th>\n",
       "      <td>1009113</td>\n",
       "      <td>52</td>\n",
       "      <td>520</td>\n",
       "      <td>936</td>\n",
       "      <td>201</td>\n",
       "      <td>283</td>\n",
       "      <td>618</td>\n",
       "      <td>249</td>\n",
       "      <td>617</td>\n",
       "      <td>35</td>\n",
       "      <td>33</td>\n",
       "      <td>30</td>\n",
       "      <td>11</td>\n",
       "      <td>9</td>\n",
       "    </tr>\n",
       "  </tbody>\n",
       "</table>\n",
       "</div>"
      ],
      "text/plain": [
       "   sample_id  item  publisher  user  topic_0  topic_1  topic_2  topic_3  \\\n",
       "0    1009109  1716        349  1053      362      397      430      287   \n",
       "1    1009110  1707        202   254      150       73      356      212   \n",
       "2    1009111  1592        520  1524      397      287      356      330   \n",
       "3    1009112  1541         82  2994      397      287      102      323   \n",
       "4    1009113    52        520   936      201      283      618      249   \n",
       "\n",
       "   topic_4  weight_0  weight_1  weight_2  weight_3  weight_4  \n",
       "0      431        54        54        51        26        13  \n",
       "1      482        29         7         5         5         4  \n",
       "2      281        95        46         6         5         3  \n",
       "3      356        93        77        25         7         4  \n",
       "4      617        35        33        30        11         9  "
      ]
     },
     "execution_count": 4,
     "metadata": {},
     "output_type": "execute_result"
    }
   ],
   "source": [
    "test.head()"
   ]
  },
  {
   "cell_type": "markdown",
   "metadata": {},
   "source": [
    "## Подготовка обучающего датасета"
   ]
  },
  {
   "cell_type": "code",
   "execution_count": 5,
   "metadata": {},
   "outputs": [
    {
     "data": {
      "text/plain": [
       "(3000, 608, 822, 1009109)"
      ]
     },
     "execution_count": 5,
     "metadata": {},
     "output_type": "execute_result"
    }
   ],
   "source": [
    "train['weight_0'] = train['weight_0'].astype(float) / 100\n",
    "train['weight_1'] = train['weight_1'].astype(float) / 100\n",
    "train['weight_2'] = train['weight_2'].astype(float) / 100\n",
    "train['weight_3'] = train['weight_3'].astype(float) / 100\n",
    "train['weight_4'] = train['weight_4'].astype(float) / 100\n",
    "\n",
    "train['target'] = train['target'].astype(float)\n",
    "\n",
    "target = train.pop('target')\n",
    "\n",
    "user = train.pop('user')\n",
    "user_count = len(user.unique())\n",
    "\n",
    "publisher = train.pop('publisher')\n",
    "publisher_count = len(publisher.unique())\n",
    "\n",
    "topics = train[['topic_0', 'topic_1', 'topic_2', 'topic_3', 'topic_4']]\n",
    "weights = train[['weight_0', 'weight_1', 'weight_2', 'weight_3', 'weight_4']]\n",
    "topic_count = len(np.unique(topics.values))\n",
    "\n",
    "train.pop('sample_id')\n",
    "train.pop('item')\n",
    "\n",
    "user_count, publisher_count, topic_count, len(train)"
   ]
  },
  {
   "cell_type": "code",
   "execution_count": 6,
   "metadata": {},
   "outputs": [],
   "source": [
    "dataset = tf.data.Dataset.from_tensor_slices(((user.values, publisher.values, topics.values, weights.values), target.values))"
   ]
  },
  {
   "cell_type": "code",
   "execution_count": 7,
   "metadata": {},
   "outputs": [],
   "source": [
    "train_dataset = dataset.shuffle(len(train)).batch(2048*8)"
   ]
  },
  {
   "cell_type": "markdown",
   "metadata": {},
   "source": [
    "## Создание модели"
   ]
  },
  {
   "cell_type": "code",
   "execution_count": 8,
   "metadata": {},
   "outputs": [
    {
     "name": "stderr",
     "output_type": "stream",
     "text": [
      "WARNING: Logging before flag parsing goes to stderr.\n",
      "W1022 13:56:18.954611 12648 deprecation.py:506] From c:\\users\\astw\\appdata\\local\\programs\\python\\python37\\lib\\site-packages\\tensorflow_core\\python\\keras\\initializers.py:119: calling RandomUniform.__init__ (from tensorflow.python.ops.init_ops) with dtype is deprecated and will be removed in a future version.\n",
      "Instructions for updating:\n",
      "Call initializer instance with the dtype argument instead of passing it to the constructor\n",
      "W1022 13:56:18.971626 12648 deprecation.py:506] From c:\\users\\astw\\appdata\\local\\programs\\python\\python37\\lib\\site-packages\\tensorflow_core\\python\\ops\\resource_variable_ops.py:1630: calling BaseResourceVariable.__init__ (from tensorflow.python.ops.resource_variable_ops) with constraint is deprecated and will be removed in a future version.\n",
      "Instructions for updating:\n",
      "If using Keras pass *_constraint arguments to layers.\n",
      "W1022 13:56:19.410032 12648 deprecation.py:323] From c:\\users\\astw\\appdata\\local\\programs\\python\\python37\\lib\\site-packages\\tensorflow_core\\python\\ops\\nn_impl.py:183: where (from tensorflow.python.ops.array_ops) is deprecated and will be removed in a future version.\n",
      "Instructions for updating:\n",
      "Use tf.where in 2.0, which has the same broadcast rule as np.where\n"
     ]
    }
   ],
   "source": [
    "# define inputs\n",
    "inputA = Input(shape=(1,))\n",
    "inputB = Input(shape=(1,))\n",
    "inputC = Input(shape=(5,))\n",
    "inputD = Input(shape=(5,))\n",
    " \n",
    "# operations on user data\n",
    "x1 = Embedding(user_count, 10)(inputA)\n",
    "x1 = Reshape((10,))(x1)\n",
    "x1 = Dropout(0.1)(x1)\n",
    "x1 = Dense(512, activation=\"relu\")(x1)\n",
    "x1 = Dropout(0.2)(x1)\n",
    "x1 = Dense(256, activation=\"relu\")(x1)\n",
    "x1 = Model(inputs=inputA, outputs=x1)\n",
    "\n",
    "# operations on publisher data\n",
    "x2 = Embedding(publisher_count, 10)(inputB)\n",
    "x2 = Reshape((10,))(x2)\n",
    "x2 = Dropout(0.1)(x2)\n",
    "x2 = Dense(512, activation=\"relu\")(x2)\n",
    "x2 = Dropout(0.2)(x2)\n",
    "x2 = Dense(256, activation=\"relu\")(x2)\n",
    "x2 = Model(inputs=inputB, outputs=x2)\n",
    "\n",
    "# operations on topics data\n",
    "x3 = Embedding(topic_count, 10)(inputC)\n",
    "x3 = Dropout(0.1)(x3)\n",
    "x3 = Dense(512, activation=\"relu\")(x3)\n",
    "x3 = Dropout(0.2)(x3)\n",
    "x3 = Dense(256, activation=\"relu\")(x3)\n",
    "x3 = Model(inputs=inputC, outputs=x3)\n",
    "\n",
    "# operations on topics weights\n",
    "x4 = Reshape((5,1))(inputD)\n",
    "x4 = Dropout(0.1)(x4)\n",
    "x4 = Dense(512, activation=\"relu\")(x4)\n",
    "x4 = Dropout(0.2)(x4)\n",
    "x4 = Dense(256, activation=\"relu\")(x4)\n",
    "x4 = Model(inputs=inputD, outputs=x4)\n",
    "\n",
    "# combine the output of the branches\n",
    "comb_data = concatenate([x1.output, x2.output], axis=1)\n",
    "comb_data = Reshape((1,512))(comb_data)\n",
    "comb_topics = concatenate([x3.output, x4.output])\n",
    "comb_all = concatenate([comb_data, comb_topics], axis=1)\n",
    "\n",
    " \n",
    "# prediction on the combined outputs\n",
    "z = Flatten()(comb_all)\n",
    "z = Dropout(0.1)(z)\n",
    "z = Dense(512, activation=\"relu\")(z)\n",
    "z = Dropout(0.2)(z)\n",
    "z = Dense(256, activation=\"relu\")(z)\n",
    "z = Dense(1, activation=\"sigmoid\")(z)\n",
    " \n",
    "model = Model(inputs=[x1.input, x2.input, x3.input, x4.input], outputs=z)\n",
    "\n",
    "optimizer = tf.keras.optimizers.Adam(learning_rate=0.0001, beta_1=0.9, beta_2=0.999, amsgrad=False)\n",
    "\n",
    "model.compile(optimizer=optimizer,\n",
    "    loss='binary_crossentropy',\n",
    "    metrics=['accuracy'])"
   ]
  },
  {
   "cell_type": "code",
   "execution_count": 9,
   "metadata": {},
   "outputs": [
    {
     "name": "stdout",
     "output_type": "stream",
     "text": [
      "Model: \"model_4\"\n",
      "__________________________________________________________________________________________________\n",
      "Layer (type)                    Output Shape         Param #     Connected to                     \n",
      "==================================================================================================\n",
      "input_1 (InputLayer)            [(None, 1)]          0                                            \n",
      "__________________________________________________________________________________________________\n",
      "input_2 (InputLayer)            [(None, 1)]          0                                            \n",
      "__________________________________________________________________________________________________\n",
      "embedding (Embedding)           (None, 1, 10)        30000       input_1[0][0]                    \n",
      "__________________________________________________________________________________________________\n",
      "embedding_1 (Embedding)         (None, 1, 10)        6080        input_2[0][0]                    \n",
      "__________________________________________________________________________________________________\n",
      "reshape (Reshape)               (None, 10)           0           embedding[0][0]                  \n",
      "__________________________________________________________________________________________________\n",
      "reshape_1 (Reshape)             (None, 10)           0           embedding_1[0][0]                \n",
      "__________________________________________________________________________________________________\n",
      "input_3 (InputLayer)            [(None, 5)]          0                                            \n",
      "__________________________________________________________________________________________________\n",
      "input_4 (InputLayer)            [(None, 5)]          0                                            \n",
      "__________________________________________________________________________________________________\n",
      "dropout (Dropout)               (None, 10)           0           reshape[0][0]                    \n",
      "__________________________________________________________________________________________________\n",
      "dropout_2 (Dropout)             (None, 10)           0           reshape_1[0][0]                  \n",
      "__________________________________________________________________________________________________\n",
      "embedding_2 (Embedding)         (None, 5, 10)        8220        input_3[0][0]                    \n",
      "__________________________________________________________________________________________________\n",
      "reshape_2 (Reshape)             (None, 5, 1)         0           input_4[0][0]                    \n",
      "__________________________________________________________________________________________________\n",
      "dense (Dense)                   (None, 512)          5632        dropout[0][0]                    \n",
      "__________________________________________________________________________________________________\n",
      "dense_2 (Dense)                 (None, 512)          5632        dropout_2[0][0]                  \n",
      "__________________________________________________________________________________________________\n",
      "dropout_4 (Dropout)             (None, 5, 10)        0           embedding_2[0][0]                \n",
      "__________________________________________________________________________________________________\n",
      "dropout_6 (Dropout)             (None, 5, 1)         0           reshape_2[0][0]                  \n",
      "__________________________________________________________________________________________________\n",
      "dropout_1 (Dropout)             (None, 512)          0           dense[0][0]                      \n",
      "__________________________________________________________________________________________________\n",
      "dropout_3 (Dropout)             (None, 512)          0           dense_2[0][0]                    \n",
      "__________________________________________________________________________________________________\n",
      "dense_4 (Dense)                 (None, 5, 512)       5632        dropout_4[0][0]                  \n",
      "__________________________________________________________________________________________________\n",
      "dense_6 (Dense)                 (None, 5, 512)       1024        dropout_6[0][0]                  \n",
      "__________________________________________________________________________________________________\n",
      "dense_1 (Dense)                 (None, 256)          131328      dropout_1[0][0]                  \n",
      "__________________________________________________________________________________________________\n",
      "dense_3 (Dense)                 (None, 256)          131328      dropout_3[0][0]                  \n",
      "__________________________________________________________________________________________________\n",
      "dropout_5 (Dropout)             (None, 5, 512)       0           dense_4[0][0]                    \n",
      "__________________________________________________________________________________________________\n",
      "dropout_7 (Dropout)             (None, 5, 512)       0           dense_6[0][0]                    \n",
      "__________________________________________________________________________________________________\n",
      "concatenate (Concatenate)       (None, 512)          0           dense_1[0][0]                    \n",
      "                                                                 dense_3[0][0]                    \n",
      "__________________________________________________________________________________________________\n",
      "dense_5 (Dense)                 (None, 5, 256)       131328      dropout_5[0][0]                  \n",
      "__________________________________________________________________________________________________\n",
      "dense_7 (Dense)                 (None, 5, 256)       131328      dropout_7[0][0]                  \n",
      "__________________________________________________________________________________________________\n",
      "reshape_3 (Reshape)             (None, 1, 512)       0           concatenate[0][0]                \n",
      "__________________________________________________________________________________________________\n",
      "concatenate_1 (Concatenate)     (None, 5, 512)       0           dense_5[0][0]                    \n",
      "                                                                 dense_7[0][0]                    \n",
      "__________________________________________________________________________________________________\n",
      "concatenate_2 (Concatenate)     (None, 6, 512)       0           reshape_3[0][0]                  \n",
      "                                                                 concatenate_1[0][0]              \n",
      "__________________________________________________________________________________________________\n",
      "flatten (Flatten)               (None, 3072)         0           concatenate_2[0][0]              \n",
      "__________________________________________________________________________________________________\n",
      "dropout_8 (Dropout)             (None, 3072)         0           flatten[0][0]                    \n",
      "__________________________________________________________________________________________________\n",
      "dense_8 (Dense)                 (None, 512)          1573376     dropout_8[0][0]                  \n",
      "__________________________________________________________________________________________________\n",
      "dropout_9 (Dropout)             (None, 512)          0           dense_8[0][0]                    \n",
      "__________________________________________________________________________________________________\n",
      "dense_9 (Dense)                 (None, 256)          131328      dropout_9[0][0]                  \n",
      "__________________________________________________________________________________________________\n",
      "dense_10 (Dense)                (None, 1)            257         dense_9[0][0]                    \n",
      "==================================================================================================\n",
      "Total params: 2,292,493\n",
      "Trainable params: 2,292,493\n",
      "Non-trainable params: 0\n",
      "__________________________________________________________________________________________________\n"
     ]
    }
   ],
   "source": [
    "model.summary()"
   ]
  },
  {
   "cell_type": "markdown",
   "metadata": {},
   "source": [
    "## Обучение"
   ]
  },
  {
   "cell_type": "code",
   "execution_count": 10,
   "metadata": {},
   "outputs": [
    {
     "name": "stdout",
     "output_type": "stream",
     "text": [
      "Train on 62 steps\n",
      "Epoch 1/5\n",
      "62/62 [==============================] - 14s 225ms/step - loss: 0.5479 - acc: 0.7970\n",
      "Epoch 2/5\n",
      "62/62 [==============================] - 13s 211ms/step - loss: 0.4999 - acc: 0.7982\n",
      "Epoch 3/5\n",
      "62/62 [==============================] - 13s 210ms/step - loss: 0.4848 - acc: 0.7982\n",
      "Epoch 4/5\n",
      "62/62 [==============================] - 13s 211ms/step - loss: 0.4615 - acc: 0.7982\n",
      "Epoch 5/5\n",
      "62/62 [==============================] - 13s 210ms/step - loss: 0.4550 - acc: 0.7982\n"
     ]
    },
    {
     "data": {
      "text/plain": [
       "<tensorflow.python.keras.callbacks.History at 0x25e0dbe1550>"
      ]
     },
     "execution_count": 10,
     "metadata": {},
     "output_type": "execute_result"
    }
   ],
   "source": [
    "model.fit(train_dataset, epochs=5)"
   ]
  },
  {
   "cell_type": "markdown",
   "metadata": {},
   "source": [
    "## Подготовка тестовых данных"
   ]
  },
  {
   "cell_type": "code",
   "execution_count": 11,
   "metadata": {},
   "outputs": [
    {
     "data": {
      "text/plain": [
       "112124"
      ]
     },
     "execution_count": 11,
     "metadata": {},
     "output_type": "execute_result"
    }
   ],
   "source": [
    "test['weight_0'] = test['weight_0'].astype(float) / 100\n",
    "test['weight_1'] = test['weight_1'].astype(float) / 100\n",
    "test['weight_2'] = test['weight_2'].astype(float) / 100\n",
    "test['weight_3'] = test['weight_3'].astype(float) / 100\n",
    "test['weight_4'] = test['weight_4'].astype(float) / 100\n",
    "\n",
    "sample_id = test.pop('sample_id')\n",
    "\n",
    "user_test = test.pop('user')\n",
    "\n",
    "publisher_test = test.pop('publisher')\n",
    "\n",
    "topics_test = test[['topic_0', 'topic_1', 'topic_2', 'topic_3', 'topic_4']]\n",
    "weights_test = test[['weight_0', 'weight_1', 'weight_2', 'weight_3', 'weight_4']]\n",
    "\n",
    "test.pop('item')\n",
    "\n",
    "len(test)"
   ]
  },
  {
   "cell_type": "code",
   "execution_count": 12,
   "metadata": {},
   "outputs": [],
   "source": [
    "dataset_test = tf.data.Dataset.from_tensor_slices(((user_test.values, publisher_test.values, topics_test.values, weights_test.values), user_test.values))\n",
    "test_dataset = dataset_test.batch(1000)"
   ]
  },
  {
   "cell_type": "markdown",
   "metadata": {},
   "source": [
    "## Предсказание данных обученной моделью"
   ]
  },
  {
   "cell_type": "code",
   "execution_count": 13,
   "metadata": {},
   "outputs": [],
   "source": [
    "test_prediction = model.predict(test_dataset)"
   ]
  },
  {
   "cell_type": "code",
   "execution_count": 21,
   "metadata": {},
   "outputs": [],
   "source": [
    "prediction = sample_id.to_frame()\n",
    "prediction['target'] = test_prediction"
   ]
  },
  {
   "cell_type": "code",
   "execution_count": 22,
   "metadata": {},
   "outputs": [
    {
     "data": {
      "text/html": [
       "<div>\n",
       "<style scoped>\n",
       "    .dataframe tbody tr th:only-of-type {\n",
       "        vertical-align: middle;\n",
       "    }\n",
       "\n",
       "    .dataframe tbody tr th {\n",
       "        vertical-align: top;\n",
       "    }\n",
       "\n",
       "    .dataframe thead th {\n",
       "        text-align: right;\n",
       "    }\n",
       "</style>\n",
       "<table border=\"1\" class=\"dataframe\">\n",
       "  <thead>\n",
       "    <tr style=\"text-align: right;\">\n",
       "      <th></th>\n",
       "      <th>sample_id</th>\n",
       "      <th>target</th>\n",
       "    </tr>\n",
       "  </thead>\n",
       "  <tbody>\n",
       "    <tr>\n",
       "      <th>0</th>\n",
       "      <td>1009109</td>\n",
       "      <td>0.275180</td>\n",
       "    </tr>\n",
       "    <tr>\n",
       "      <th>1</th>\n",
       "      <td>1009110</td>\n",
       "      <td>0.223217</td>\n",
       "    </tr>\n",
       "    <tr>\n",
       "      <th>2</th>\n",
       "      <td>1009111</td>\n",
       "      <td>0.149463</td>\n",
       "    </tr>\n",
       "    <tr>\n",
       "      <th>3</th>\n",
       "      <td>1009112</td>\n",
       "      <td>0.028860</td>\n",
       "    </tr>\n",
       "    <tr>\n",
       "      <th>4</th>\n",
       "      <td>1009113</td>\n",
       "      <td>0.146500</td>\n",
       "    </tr>\n",
       "  </tbody>\n",
       "</table>\n",
       "</div>"
      ],
      "text/plain": [
       "   sample_id    target\n",
       "0    1009109  0.275180\n",
       "1    1009110  0.223217\n",
       "2    1009111  0.149463\n",
       "3    1009112  0.028860\n",
       "4    1009113  0.146500"
      ]
     },
     "execution_count": 22,
     "metadata": {},
     "output_type": "execute_result"
    }
   ],
   "source": [
    "prediction.head()"
   ]
  },
  {
   "cell_type": "markdown",
   "metadata": {},
   "source": [
    "## Сохранение результатов в файл"
   ]
  },
  {
   "cell_type": "code",
   "execution_count": null,
   "metadata": {},
   "outputs": [],
   "source": [
    "prediction.to_csv(\"prediction.csv\", index=False)"
   ]
  }
 ],
 "metadata": {
  "kernelspec": {
   "display_name": "Python 3",
   "language": "python",
   "name": "python3"
  },
  "language_info": {
   "codemirror_mode": {
    "name": "ipython",
    "version": 3
   },
   "file_extension": ".py",
   "mimetype": "text/x-python",
   "name": "python",
   "nbconvert_exporter": "python",
   "pygments_lexer": "ipython3",
   "version": "3.7.2"
  }
 },
 "nbformat": 4,
 "nbformat_minor": 4
}
